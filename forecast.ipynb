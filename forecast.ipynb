{
 "cells": [
  {
   "cell_type": "code",
   "execution_count": 1,
   "metadata": {},
   "outputs": [
    {
     "name": "stdout",
     "output_type": "stream",
     "text": [
      "         date   meantemp   humidity  wind_speed  meanpressure\n",
      "0  2013-01-01  10.000000  84.500000    0.000000   1015.666667\n",
      "1  2013-01-02   7.400000  92.000000    2.980000   1017.800000\n",
      "2  2013-01-03   7.166667  87.000000    4.633333   1018.666667\n",
      "3  2013-01-04   8.666667  71.333333    1.233333   1017.166667\n",
      "4  2013-01-05   6.000000  86.833333    3.700000   1016.500000\n"
     ]
    }
   ],
   "source": [
    "import pandas as pd\n",
    "import numpy as numpy\n",
    "import matplotlib.pyplot as plt\n",
    "import seaborn as sns\n",
    "import plotly.express as px\n",
    "\n",
    "data = pd.read_csv(\"DailyDelhiClimateTrain.csv\")\n",
    "print(data.head())"
   ]
  },
  {
   "cell_type": "code",
   "execution_count": 2,
   "metadata": {},
   "outputs": [
    {
     "name": "stdout",
     "output_type": "stream",
     "text": [
      "          meantemp     humidity   wind_speed  meanpressure\n",
      "count  1462.000000  1462.000000  1462.000000   1462.000000\n",
      "mean     25.495521    60.771702     6.802209   1011.104548\n",
      "std       7.348103    16.769652     4.561602    180.231668\n",
      "min       6.000000    13.428571     0.000000     -3.041667\n",
      "25%      18.857143    50.375000     3.475000   1001.580357\n",
      "50%      27.714286    62.625000     6.221667   1008.563492\n",
      "75%      31.305804    72.218750     9.238235   1014.944901\n",
      "max      38.714286   100.000000    42.220000   7679.333333\n"
     ]
    }
   ],
   "source": [
    "print(data.describe())"
   ]
  }
 ],
 "metadata": {
  "kernelspec": {
   "display_name": "Python 3",
   "language": "python",
   "name": "python3"
  },
  "language_info": {
   "codemirror_mode": {
    "name": "ipython",
    "version": 3
   },
   "file_extension": ".py",
   "mimetype": "text/x-python",
   "name": "python",
   "nbconvert_exporter": "python",
   "pygments_lexer": "ipython3",
   "version": "3.11.2"
  },
  "orig_nbformat": 4
 },
 "nbformat": 4,
 "nbformat_minor": 2
}
